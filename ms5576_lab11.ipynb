{
  "cells": [
    {
      "cell_type": "markdown",
      "metadata": {
        "id": "pk2FC4s0Qzzw"
      },
      "source": [
        "# Lab Exercise: SQL Analysis with Polars\n",
        "\n",
        "In this lab, you'll practice SQL queries using Polars' built-in SQL functionality. Complete each exercise by writing the appropriate SQL query."
      ]
    },
    {
      "cell_type": "code",
      "execution_count": 2,
      "metadata": {
        "colab": {
          "base_uri": "https://localhost:8080/"
        },
        "id": "gAuoz3q3Qzzz",
        "outputId": "b5500d03-dc8b-41ed-f2c7-e1e918bbfb39"
      },
      "outputs": [
        {
          "output_type": "stream",
          "name": "stdout",
          "text": [
            "Setup complete! Tables available:\n",
            "shape: (5, 1)\n",
            "┌──────────┐\n",
            "│ name     │\n",
            "│ ---      │\n",
            "│ str      │\n",
            "╞══════════╡\n",
            "│ airlines │\n",
            "│ airports │\n",
            "│ flights  │\n",
            "│ planes   │\n",
            "│ weather  │\n",
            "└──────────┘\n"
          ]
        },
        {
          "output_type": "stream",
          "name": "stderr",
          "text": [
            "/tmp/ipython-input-641361282.py:15: DeprecationWarning: The argument `eager_execution` for `SQLContext.__init__` is deprecated. It has been renamed to `eager`.\n",
            "  ctx = pl.SQLContext(\n"
          ]
        }
      ],
      "source": [
        "# Setup - Run this cell first\n",
        "import polars as pl\n",
        "\n",
        "# Load data\n",
        "airlines = pl.read_csv('https://raw.githubusercontent.com/philhetzel/opan5510-class11/refs/heads/main/data/nyc_airlines.csv')\n",
        "airports = pl.read_csv('https://raw.githubusercontent.com/philhetzel/opan5510-class11/refs/heads/main/data/nyc_airports.csv')\n",
        "flights = pl.read_csv('https://raw.githubusercontent.com/philhetzel/opan5510-class11/refs/heads/main/data/nyc_flights.csv', null_values=['NA'])\n",
        "planes = pl.read_csv('https://raw.githubusercontent.com/philhetzel/opan5510-class11/refs/heads/main/data/nyc_planes.csv', null_values=['NA'])\n",
        "weather = pl.read_csv('https://raw.githubusercontent.com/philhetzel/opan5510-class11/refs/heads/main/data/nyc_weather.csv', null_values=['NA'], infer_schema_length = 1000)\n",
        "\n",
        "flights = flights.with_columns(pl.col(\"time_hour\").str.strptime(pl.Datetime))\n",
        "weather = weather.with_columns(pl.col(\"time_hour\").str.strptime(pl.Datetime))\n",
        "\n",
        "# Create SQL context\n",
        "ctx = pl.SQLContext(\n",
        "    airlines=airlines,\n",
        "    airports=airports,\n",
        "    flights=flights,\n",
        "    planes=planes,\n",
        "    weather=weather,\n",
        "    eager_execution=True\n",
        ")\n",
        "\n",
        "print(\"Setup complete! Tables available:\")\n",
        "print(ctx.execute(\"SHOW TABLES\"))"
      ]
    },
    {
      "cell_type": "markdown",
      "metadata": {
        "id": "Cahn5vTRQzz0"
      },
      "source": [
        "## Exercise 1: Basic Queries\n",
        "\n",
        "### 1.1 Find all unique carriers in the airlines table"
      ]
    },
    {
      "cell_type": "code",
      "execution_count": null,
      "metadata": {
        "colab": {
          "base_uri": "https://localhost:8080/"
        },
        "id": "qjcuEO4rQzz1",
        "outputId": "b029aa9e-c623-437d-d207-1837c7a7c41d"
      },
      "outputs": [
        {
          "output_type": "stream",
          "name": "stdout",
          "text": [
            "shape: (16, 1)\n",
            "┌─────────┐\n",
            "│ carrier │\n",
            "│ ---     │\n",
            "│ str     │\n",
            "╞═════════╡\n",
            "│ 9E      │\n",
            "│ AA      │\n",
            "│ AS      │\n",
            "│ B6      │\n",
            "│ DL      │\n",
            "│ …       │\n",
            "│ UA      │\n",
            "│ US      │\n",
            "│ VX      │\n",
            "│ WN      │\n",
            "│ YV      │\n",
            "└─────────┘\n"
          ]
        }
      ],
      "source": [
        "# Write your SQL query here\n",
        "result = ctx.execute(\"\"\"\n",
        "SELECT DISTINCT carrier\n",
        "FROM airlines\n",
        "\"\"\")\n",
        "\n",
        "# print(result)\n",
        "\n",
        "print (result)"
      ]
    },
    {
      "cell_type": "markdown",
      "metadata": {
        "id": "-k25F0stQzz1"
      },
      "source": [
        "### 1.2 Find the top 10 destinations by number of flights"
      ]
    },
    {
      "cell_type": "code",
      "execution_count": null,
      "metadata": {
        "colab": {
          "base_uri": "https://localhost:8080/"
        },
        "id": "Ooos5QGXQzz2",
        "outputId": "6fd018fc-198a-4d48-cbc8-59a2a51d63c4"
      },
      "outputs": [
        {
          "output_type": "stream",
          "name": "stdout",
          "text": [
            "shape: (10, 2)\n",
            "┌──────┬──────────────┐\n",
            "│ dest ┆ flight_count │\n",
            "│ ---  ┆ ---          │\n",
            "│ str  ┆ u32          │\n",
            "╞══════╪══════════════╡\n",
            "│ ORD  ┆ 17283        │\n",
            "│ ATL  ┆ 17215        │\n",
            "│ LAX  ┆ 16174        │\n",
            "│ BOS  ┆ 15508        │\n",
            "│ MCO  ┆ 14082        │\n",
            "│ CLT  ┆ 14064        │\n",
            "│ SFO  ┆ 13331        │\n",
            "│ FLL  ┆ 12055        │\n",
            "│ MIA  ┆ 11728        │\n",
            "│ DCA  ┆ 9705         │\n",
            "└──────┴──────────────┘\n"
          ]
        }
      ],
      "source": [
        "# Write your SQL query here\n",
        "result = ctx.execute(\"\"\"\n",
        "SELECT dest, COUNT(*) AS flight_count\n",
        "FROM flights\n",
        "GROUP BY dest\n",
        "ORDER BY flight_count DESC\n",
        "LIMIT 10\n",
        "\"\"\")\n",
        "\n",
        "# print(result)\n",
        "\n",
        "print (result)"
      ]
    },
    {
      "cell_type": "markdown",
      "metadata": {
        "id": "rKUFtaqeQzz2"
      },
      "source": [
        "### 1.3 Find all flights that departed more than 2 hours late (120 minutes)"
      ]
    },
    {
      "cell_type": "code",
      "execution_count": null,
      "metadata": {
        "colab": {
          "base_uri": "https://localhost:8080/"
        },
        "id": "Jz0g3K3TQzz2",
        "outputId": "9275da76-77ba-47aa-832e-fcbe5f92dd61"
      },
      "outputs": [
        {
          "output_type": "stream",
          "name": "stdout",
          "text": [
            "shape: (9_723, 19)\n",
            "┌──────┬───────┬─────┬──────────┬───┬──────────┬──────┬────────┬─────────────────────────┐\n",
            "│ year ┆ month ┆ day ┆ dep_time ┆ … ┆ distance ┆ hour ┆ minute ┆ time_hour               │\n",
            "│ ---  ┆ ---   ┆ --- ┆ ---      ┆   ┆ ---      ┆ ---  ┆ ---    ┆ ---                     │\n",
            "│ i64  ┆ i64   ┆ i64 ┆ i64      ┆   ┆ i64      ┆ i64  ┆ i64    ┆ datetime[μs, UTC]       │\n",
            "╞══════╪═══════╪═════╪══════════╪═══╪══════════╪══════╪════════╪═════════════════════════╡\n",
            "│ 2013 ┆ 1     ┆ 1   ┆ 848      ┆ … ┆ 184      ┆ 18   ┆ 35     ┆ 2013-01-01 23:00:00 UTC │\n",
            "│ 2013 ┆ 1     ┆ 1   ┆ 957      ┆ … ┆ 200      ┆ 7    ┆ 33     ┆ 2013-01-01 12:00:00 UTC │\n",
            "│ 2013 ┆ 1     ┆ 1   ┆ 1114     ┆ … ┆ 1416     ┆ 9    ┆ 0      ┆ 2013-01-01 14:00:00 UTC │\n",
            "│ 2013 ┆ 1     ┆ 1   ┆ 1540     ┆ … ┆ 1598     ┆ 13   ┆ 38     ┆ 2013-01-01 18:00:00 UTC │\n",
            "│ 2013 ┆ 1     ┆ 1   ┆ 1815     ┆ … ┆ 1134     ┆ 13   ┆ 25     ┆ 2013-01-01 18:00:00 UTC │\n",
            "│ …    ┆ …     ┆ …   ┆ …        ┆ … ┆ …        ┆ …    ┆ …      ┆ …                       │\n",
            "│ 2013 ┆ 9     ┆ 30  ┆ 1823     ┆ … ┆ 765      ┆ 15   ┆ 45     ┆ 2013-09-30 19:00:00 UTC │\n",
            "│ 2013 ┆ 9     ┆ 30  ┆ 1951     ┆ … ┆ 708      ┆ 16   ┆ 49     ┆ 2013-09-30 20:00:00 UTC │\n",
            "│ 2013 ┆ 9     ┆ 30  ┆ 2053     ┆ … ┆ 746      ┆ 18   ┆ 15     ┆ 2013-09-30 22:00:00 UTC │\n",
            "│ 2013 ┆ 9     ┆ 30  ┆ 2159     ┆ … ┆ 301      ┆ 18   ┆ 45     ┆ 2013-09-30 22:00:00 UTC │\n",
            "│ 2013 ┆ 9     ┆ 30  ┆ 2235     ┆ … ┆ 944      ┆ 20   ┆ 1      ┆ 2013-10-01 00:00:00 UTC │\n",
            "└──────┴───────┴─────┴──────────┴───┴──────────┴──────┴────────┴─────────────────────────┘\n"
          ]
        }
      ],
      "source": [
        "# Write your SQL query here\n",
        "result = ctx.execute(\"\"\"\n",
        "SELECT *\n",
        "FROM flights\n",
        "WHERE dep_delay > 120\n",
        "\"\"\")\n",
        "\n",
        "# print(result)\n",
        "\n",
        "print (result)"
      ]
    },
    {
      "cell_type": "markdown",
      "metadata": {
        "id": "aJ1u6p1kQzz2"
      },
      "source": [
        "## Exercise 2: Aggregation\n",
        "\n",
        "### 2.1 Calculate the average departure delay for each origin airport"
      ]
    },
    {
      "cell_type": "code",
      "execution_count": null,
      "metadata": {
        "colab": {
          "base_uri": "https://localhost:8080/"
        },
        "id": "gE9-7HulQzz3",
        "outputId": "d567685e-c872-410c-d387-609935475039"
      },
      "outputs": [
        {
          "output_type": "stream",
          "name": "stdout",
          "text": [
            "shape: (3, 2)\n",
            "┌────────┬───────────┐\n",
            "│ origin ┆ avg_delay │\n",
            "│ ---    ┆ ---       │\n",
            "│ str    ┆ f64       │\n",
            "╞════════╪═══════════╡\n",
            "│ EWR    ┆ 15.107954 │\n",
            "│ JFK    ┆ 12.112159 │\n",
            "│ LGA    ┆ 10.346876 │\n",
            "└────────┴───────────┘\n"
          ]
        }
      ],
      "source": [
        "# Write your SQL query here\n",
        "result = ctx.execute(\"\"\"\n",
        "SELECT origin, AVG(dep_delay) AS avg_delay\n",
        "FROM flights\n",
        "GROUP BY origin\n",
        "\"\"\")\n",
        "\n",
        "# print(result)\n",
        "\n",
        "print (result)"
      ]
    },
    {
      "cell_type": "markdown",
      "metadata": {
        "id": "1SrrNiv8Qzz3"
      },
      "source": [
        "### 2.2 Find the busiest month of the year\n",
        "\n",
        "Count the number of flights per month and find which month has the most flights."
      ]
    },
    {
      "cell_type": "code",
      "execution_count": null,
      "metadata": {
        "colab": {
          "base_uri": "https://localhost:8080/"
        },
        "id": "kJMfgG_mQzz3",
        "outputId": "380be217-b2d1-429d-db79-fdc48fdbb42b"
      },
      "outputs": [
        {
          "output_type": "stream",
          "name": "stdout",
          "text": [
            "shape: (5, 19)\n",
            "┌──────┬───────┬─────┬──────────┬───┬──────────┬──────┬────────┬─────────────────────────┐\n",
            "│ year ┆ month ┆ day ┆ dep_time ┆ … ┆ distance ┆ hour ┆ minute ┆ time_hour               │\n",
            "│ ---  ┆ ---   ┆ --- ┆ ---      ┆   ┆ ---      ┆ ---  ┆ ---    ┆ ---                     │\n",
            "│ i64  ┆ i64   ┆ i64 ┆ i64      ┆   ┆ i64      ┆ i64  ┆ i64    ┆ datetime[μs, UTC]       │\n",
            "╞══════╪═══════╪═════╪══════════╪═══╪══════════╪══════╪════════╪═════════════════════════╡\n",
            "│ 2013 ┆ 1     ┆ 1   ┆ 517      ┆ … ┆ 1400     ┆ 5    ┆ 15     ┆ 2013-01-01 10:00:00 UTC │\n",
            "│ 2013 ┆ 1     ┆ 1   ┆ 533      ┆ … ┆ 1416     ┆ 5    ┆ 29     ┆ 2013-01-01 10:00:00 UTC │\n",
            "│ 2013 ┆ 1     ┆ 1   ┆ 542      ┆ … ┆ 1089     ┆ 5    ┆ 40     ┆ 2013-01-01 10:00:00 UTC │\n",
            "│ 2013 ┆ 1     ┆ 1   ┆ 544      ┆ … ┆ 1576     ┆ 5    ┆ 45     ┆ 2013-01-01 10:00:00 UTC │\n",
            "│ 2013 ┆ 1     ┆ 1   ┆ 554      ┆ … ┆ 762      ┆ 6    ┆ 0      ┆ 2013-01-01 11:00:00 UTC │\n",
            "└──────┴───────┴─────┴──────────┴───┴──────────┴──────┴────────┴─────────────────────────┘\n",
            "shape: (1, 2)\n",
            "┌───────┬──────────────┐\n",
            "│ month ┆ flight_count │\n",
            "│ ---   ┆ ---          │\n",
            "│ i64   ┆ u32          │\n",
            "╞═══════╪══════════════╡\n",
            "│ 7     ┆ 29425        │\n",
            "└───────┴──────────────┘\n"
          ]
        }
      ],
      "source": [
        "# First, let's check what columns are available\n",
        "result = ctx.execute(\"\"\"\n",
        "    SELECT *\n",
        "    FROM flights\n",
        "    LIMIT 5\n",
        "\"\"\")\n",
        "# print(result)\n",
        "\n",
        "print (result)\n",
        "\n",
        "# Now write your query to find busiest month\n",
        "result = ctx.execute(\"\"\"\n",
        "SELECT month, COUNT(*) AS flight_count\n",
        "FROM flights\n",
        "GROUP BY month\n",
        "ORDER BY flight_count DESC\n",
        "LIMIT 1\n",
        "\"\"\")\n",
        "\n",
        "# print(result)\n",
        "\n",
        "print (result)"
      ]
    },
    {
      "cell_type": "markdown",
      "metadata": {
        "id": "_O9rL1r_Qzz4"
      },
      "source": [
        "### 2.3 Calculate the on-time performance rate for each carrier\n",
        "\n",
        "Consider a flight on-time if the departure delay is <= 15 minutes."
      ]
    },
    {
      "cell_type": "code",
      "execution_count": null,
      "metadata": {
        "colab": {
          "base_uri": "https://localhost:8080/"
        },
        "id": "w6URrGFCQzz4",
        "outputId": "960c1927-004d-4b03-b3d1-fb425c50921c"
      },
      "outputs": [
        {
          "output_type": "stream",
          "name": "stdout",
          "text": [
            "shape: (16, 2)\n",
            "┌─────────┬──────────────┐\n",
            "│ carrier ┆ on_time_rate │\n",
            "│ ---     ┆ ---          │\n",
            "│ str     ┆ f64          │\n",
            "╞═════════╪══════════════╡\n",
            "│ HA      ┆ 0.929825     │\n",
            "│ AS      ┆ 0.865546     │\n",
            "│ US      ┆ 0.849873     │\n",
            "│ DL      ┆ 0.830742     │\n",
            "│ AA      ┆ 0.824376     │\n",
            "│ …       ┆ …            │\n",
            "│ FL      ┆ 0.716871     │\n",
            "│ F9      ┆ 0.715328     │\n",
            "│ 9E      ┆ 0.701246     │\n",
            "│ EV      ┆ 0.659221     │\n",
            "│ YV      ┆ 0.647255     │\n",
            "└─────────┴──────────────┘\n"
          ]
        }
      ],
      "source": [
        "# Write your SQL query here\n",
        "result = ctx.execute(\"\"\"\n",
        "SELECT\n",
        "    carrier,\n",
        "    AVG(CASE WHEN dep_delay <= 15 THEN 1.0 ELSE 0.0 END) AS on_time_rate\n",
        "FROM flights\n",
        "GROUP BY carrier\n",
        "ORDER BY on_time_rate DESC\n",
        "\"\"\")\n",
        "\n",
        "# print(result)\n",
        "print(result)"
      ]
    },
    {
      "cell_type": "markdown",
      "metadata": {
        "id": "1jPA-SIJQzz4"
      },
      "source": [
        "## Exercise 3: Joins\n",
        "\n",
        "### 3.1 List all flights with their airline names (not just carrier codes)\n",
        "\n",
        "Show the first 20 flights with carrier code, airline name, flight number, origin, and destination."
      ]
    },
    {
      "cell_type": "code",
      "execution_count": null,
      "metadata": {
        "colab": {
          "base_uri": "https://localhost:8080/"
        },
        "id": "9s8kr1KpQzz4",
        "outputId": "6a4170e2-a238-42b7-c982-481916fcb6d3"
      },
      "outputs": [
        {
          "output_type": "stream",
          "name": "stdout",
          "text": [
            "shape: (20, 5)\n",
            "┌─────────┬────────────────────────┬────────┬────────┬──────┐\n",
            "│ carrier ┆ airline_name           ┆ flight ┆ origin ┆ dest │\n",
            "│ ---     ┆ ---                    ┆ ---    ┆ ---    ┆ ---  │\n",
            "│ str     ┆ str                    ┆ i64    ┆ str    ┆ str  │\n",
            "╞═════════╪════════════════════════╪════════╪════════╪══════╡\n",
            "│ UA      ┆ United Air Lines Inc.  ┆ 1545   ┆ EWR    ┆ IAH  │\n",
            "│ UA      ┆ United Air Lines Inc.  ┆ 1714   ┆ LGA    ┆ IAH  │\n",
            "│ AA      ┆ American Airlines Inc. ┆ 1141   ┆ JFK    ┆ MIA  │\n",
            "│ B6      ┆ JetBlue Airways        ┆ 725    ┆ JFK    ┆ BQN  │\n",
            "│ DL      ┆ Delta Air Lines Inc.   ┆ 461    ┆ LGA    ┆ ATL  │\n",
            "│ …       ┆ …                      ┆ …      ┆ …      ┆ …    │\n",
            "│ B6      ┆ JetBlue Airways        ┆ 1806   ┆ JFK    ┆ BOS  │\n",
            "│ UA      ┆ United Air Lines Inc.  ┆ 1187   ┆ EWR    ┆ LAS  │\n",
            "│ B6      ┆ JetBlue Airways        ┆ 371    ┆ LGA    ┆ FLL  │\n",
            "│ MQ      ┆ Envoy Air              ┆ 4650   ┆ LGA    ┆ ATL  │\n",
            "│ B6      ┆ JetBlue Airways        ┆ 343    ┆ EWR    ┆ PBI  │\n",
            "└─────────┴────────────────────────┴────────┴────────┴──────┘\n"
          ]
        }
      ],
      "source": [
        "# Write your SQL query here\n",
        "result = ctx.execute(\"\"\"\n",
        "\n",
        "SELECT\n",
        "    f.carrier,\n",
        "    a.name AS airline_name,\n",
        "    f.flight,\n",
        "    f.origin,\n",
        "    f.dest\n",
        "FROM flights f\n",
        "JOIN airlines a ON f.carrier = a.carrier\n",
        "LIMIT 20\n",
        "\n",
        "\"\"\")\n",
        "\n",
        "# print(result)\n",
        "\n",
        "print(result)"
      ]
    },
    {
      "cell_type": "markdown",
      "metadata": {
        "id": "e3zkvoTsQzz5"
      },
      "source": [
        "### 3.2 Find the average age of planes for each carrier\n",
        "\n",
        "Hint: The planes table has a `year` column for manufacture year. Calculate age based on 2013."
      ]
    },
    {
      "cell_type": "code",
      "execution_count": null,
      "metadata": {
        "colab": {
          "base_uri": "https://localhost:8080/"
        },
        "id": "adpsWHORQzz5",
        "outputId": "c8b60cd0-0e44-4b8b-e9c8-291e886e328b"
      },
      "outputs": [
        {
          "output_type": "stream",
          "name": "stdout",
          "text": [
            "shape: (16, 2)\n",
            "┌─────────┬───────────┐\n",
            "│ carrier ┆ avg_age   │\n",
            "│ ---     ┆ ---       │\n",
            "│ str     ┆ f64       │\n",
            "╞═════════╪═══════════╡\n",
            "│ YV      ┆ 9.313758  │\n",
            "│ VX      ┆ 4.473643  │\n",
            "│ FL      ┆ 11.385829 │\n",
            "│ AA      ┆ 25.869426 │\n",
            "│ 9E      ┆ 7.101053  │\n",
            "│ …       ┆ …         │\n",
            "│ DL      ┆ 16.372169 │\n",
            "│ UA      ┆ 13.207691 │\n",
            "│ AS      ┆ 3.33662   │\n",
            "│ US      ┆ 9.103663  │\n",
            "│ F9      ┆ 4.87874   │\n",
            "└─────────┴───────────┘\n"
          ]
        }
      ],
      "source": [
        "# Write your SQL query here\n",
        "result = ctx.execute(\"\"\"\n",
        "SELECT\n",
        "    f.carrier,\n",
        "    AVG(2013 - p.year) AS avg_age\n",
        "FROM flights f\n",
        "JOIN planes p ON f.tailnum = p.tailnum\n",
        "GROUP BY f.carrier\n",
        "\n",
        "\"\"\")\n",
        "\n",
        "# print(result)\n",
        "\n",
        "print(result)"
      ]
    },
    {
      "cell_type": "markdown",
      "metadata": {
        "id": "05j4Cxm3Qzz5"
      },
      "source": [
        "### 3.3 Find flights that experienced both departure delays and bad weather\n",
        "\n",
        "Join flights with weather data and find flights where departure delay > 30 minutes and either wind_speed > 20 or precip > 0.1"
      ]
    },
    {
      "cell_type": "code",
      "execution_count": null,
      "metadata": {
        "colab": {
          "base_uri": "https://localhost:8080/"
        },
        "id": "BXKluMMgQzz5",
        "outputId": "52cb5516-c366-4f73-d604-e3819b66f446"
      },
      "outputs": [
        {
          "output_type": "stream",
          "name": "stdout",
          "text": [
            "shape: (5, 15)\n",
            "┌────────┬──────┬───────┬─────┬───┬────────┬──────────┬───────┬─────────────────────────┐\n",
            "│ origin ┆ year ┆ month ┆ day ┆ … ┆ precip ┆ pressure ┆ visib ┆ time_hour               │\n",
            "│ ---    ┆ ---  ┆ ---   ┆ --- ┆   ┆ ---    ┆ ---      ┆ ---   ┆ ---                     │\n",
            "│ str    ┆ i64  ┆ i64   ┆ i64 ┆   ┆ f64    ┆ f64      ┆ f64   ┆ datetime[μs, UTC]       │\n",
            "╞════════╪══════╪═══════╪═════╪═══╪════════╪══════════╪═══════╪═════════════════════════╡\n",
            "│ EWR    ┆ 2013 ┆ 1     ┆ 1   ┆ … ┆ 0.0    ┆ 1012.0   ┆ 10.0  ┆ 2013-01-01 06:00:00 UTC │\n",
            "│ EWR    ┆ 2013 ┆ 1     ┆ 1   ┆ … ┆ 0.0    ┆ 1012.3   ┆ 10.0  ┆ 2013-01-01 07:00:00 UTC │\n",
            "│ EWR    ┆ 2013 ┆ 1     ┆ 1   ┆ … ┆ 0.0    ┆ 1012.5   ┆ 10.0  ┆ 2013-01-01 08:00:00 UTC │\n",
            "│ EWR    ┆ 2013 ┆ 1     ┆ 1   ┆ … ┆ 0.0    ┆ 1012.2   ┆ 10.0  ┆ 2013-01-01 09:00:00 UTC │\n",
            "│ EWR    ┆ 2013 ┆ 1     ┆ 1   ┆ … ┆ 0.0    ┆ 1011.9   ┆ 10.0  ┆ 2013-01-01 10:00:00 UTC │\n",
            "└────────┴──────┴───────┴─────┴───┴────────┴──────────┴───────┴─────────────────────────┘\n",
            "shape: (4_938, 19)\n",
            "┌──────┬───────┬─────┬──────────┬───┬──────────┬──────┬────────┬─────────────────────────┐\n",
            "│ year ┆ month ┆ day ┆ dep_time ┆ … ┆ distance ┆ hour ┆ minute ┆ time_hour               │\n",
            "│ ---  ┆ ---   ┆ --- ┆ ---      ┆   ┆ ---      ┆ ---  ┆ ---    ┆ ---                     │\n",
            "│ i64  ┆ i64   ┆ i64 ┆ i64      ┆   ┆ i64      ┆ i64  ┆ i64    ┆ datetime[μs, UTC]       │\n",
            "╞══════╪═══════╪═════╪══════════╪═══╪══════════╪══════╪════════╪═════════════════════════╡\n",
            "│ 2013 ┆ 1     ┆ 1   ┆ 2217     ┆ … ┆ 1005     ┆ 21   ┆ 30     ┆ 2013-01-02 02:00:00 UTC │\n",
            "│ 2013 ┆ 1     ┆ 1   ┆ 2326     ┆ … ┆ 2248     ┆ 21   ┆ 30     ┆ 2013-01-02 02:00:00 UTC │\n",
            "│ 2013 ┆ 1     ┆ 4   ┆ 1238     ┆ … ┆ 820      ┆ 11   ┆ 59     ┆ 2013-01-04 16:00:00 UTC │\n",
            "│ 2013 ┆ 1     ┆ 4   ┆ 1400     ┆ … ┆ 212      ┆ 13   ┆ 20     ┆ 2013-01-04 18:00:00 UTC │\n",
            "│ 2013 ┆ 1     ┆ 4   ┆ 1455     ┆ … ┆ 187      ┆ 14   ┆ 22     ┆ 2013-01-04 19:00:00 UTC │\n",
            "│ …    ┆ …     ┆ …   ┆ …        ┆ … ┆ …        ┆ …    ┆ …      ┆ …                       │\n",
            "│ 2013 ┆ 9     ┆ 22  ┆ 1540     ┆ … ┆ 762      ┆ 14   ┆ 59     ┆ 2013-09-22 18:00:00 UTC │\n",
            "│ 2013 ┆ 9     ┆ 22  ┆ 1957     ┆ … ┆ 335      ┆ 18   ┆ 20     ┆ 2013-09-22 22:00:00 UTC │\n",
            "│ 2013 ┆ 9     ┆ 22  ┆ 2104     ┆ … ┆ 2153     ┆ 20   ┆ 22     ┆ 2013-09-23 00:00:00 UTC │\n",
            "│ 2013 ┆ 9     ┆ 22  ┆ 2111     ┆ … ┆ 2475     ┆ 20   ┆ 25     ┆ 2013-09-23 00:00:00 UTC │\n",
            "│ 2013 ┆ 9     ┆ 22  ┆ 2130     ┆ … ┆ 187      ┆ 20   ┆ 45     ┆ 2013-09-23 00:00:00 UTC │\n",
            "└──────┴───────┴─────┴──────────┴───┴──────────┴──────┴────────┴─────────────────────────┘\n"
          ]
        }
      ],
      "source": [
        "# First, explore the weather table structure\n",
        "result = ctx.execute(\"\"\"\n",
        "    SELECT *\n",
        "    FROM weather\n",
        "    LIMIT 5\n",
        "\"\"\")\n",
        "# print(result)\n",
        "\n",
        "print(result)\n",
        "\n",
        "# Now write your join query\n",
        "result = ctx.execute(\"\"\"\n",
        "SELECT f.*\n",
        "FROM flights f\n",
        "JOIN weather w ON f.origin = w.origin AND f.time_hour = w.time_hour\n",
        "WHERE f.dep_delay > 30 AND (w.wind_speed > 20 OR w.precip > 0.1)\n",
        "\"\"\")\n",
        "\n",
        "# print(result)\n",
        "\n",
        "print(result)"
      ]
    },
    {
      "cell_type": "markdown",
      "metadata": {
        "id": "Y8Ol8Yr7Qzz6"
      },
      "source": [
        "## Exercise 4: Advanced Queries\n",
        "\n",
        "### 4.1 Find the most popular aircraft types (by number of flights)\n",
        "\n",
        "Join flights with planes to get manufacturer and model information. Show top 10."
      ]
    },
    {
      "cell_type": "code",
      "execution_count": null,
      "metadata": {
        "colab": {
          "base_uri": "https://localhost:8080/"
        },
        "id": "8XBuy7haQzz6",
        "outputId": "189e53e0-4031-44b1-d73e-144fe6cc868c"
      },
      "outputs": [
        {
          "output_type": "stream",
          "name": "stdout",
          "text": [
            "shape: (10, 3)\n",
            "┌───────────────────────────────┬─────────────────┬──────────────┐\n",
            "│ manufacturer                  ┆ model           ┆ flight_count │\n",
            "│ ---                           ┆ ---             ┆ ---          │\n",
            "│ str                           ┆ str             ┆ u32          │\n",
            "╞═══════════════════════════════╪═════════════════╪══════════════╡\n",
            "│ AIRBUS                        ┆ A320-232        ┆ 31278        │\n",
            "│ EMBRAER                       ┆ EMB-145LR       ┆ 28027        │\n",
            "│ EMBRAER                       ┆ ERJ 190-100 IGW ┆ 23716        │\n",
            "│ AIRBUS INDUSTRIE              ┆ A320-232        ┆ 14553        │\n",
            "│ EMBRAER                       ┆ EMB-145XR       ┆ 14051        │\n",
            "│ BOEING                        ┆ 737-824         ┆ 13809        │\n",
            "│ BOMBARDIER INC                ┆ CL-600-2D24     ┆ 11807        │\n",
            "│ BOEING                        ┆ 737-7H4         ┆ 10389        │\n",
            "│ BOEING                        ┆ 757-222         ┆ 9150         │\n",
            "│ MCDONNELL DOUGLAS AIRCRAFT CO ┆ MD-88           ┆ 8932         │\n",
            "└───────────────────────────────┴─────────────────┴──────────────┘\n"
          ]
        }
      ],
      "source": [
        "# Write your SQL query here\n",
        "result = ctx.execute(\"\"\"\n",
        "SELECT p.manufacturer, p.model, COUNT(*) AS flight_count\n",
        "FROM flights f\n",
        "JOIN planes p ON f.tailnum = p.tailnum\n",
        "GROUP BY p.manufacturer, p.model\n",
        "ORDER BY flight_count DESC\n",
        "LIMIT 10\n",
        "\"\"\")\n",
        "\n",
        "# print(result)\n",
        "\n",
        "print(result)"
      ]
    },
    {
      "cell_type": "markdown",
      "metadata": {
        "id": "zNP3p57GQzz6"
      },
      "source": [
        "### 4.2 Analyze route performance\n",
        "\n",
        "Find the top 10 routes (origin-destination pairs) with:\n",
        "- Total number of flights\n",
        "- Average departure delay\n",
        "- Percentage of flights delayed more than 30 minutes\n",
        "\n",
        "Include airport names, not just codes."
      ]
    },
    {
      "cell_type": "code",
      "execution_count": 32,
      "metadata": {
        "colab": {
          "base_uri": "https://localhost:8080/"
        },
        "id": "D_Ic6GIwQzz6",
        "outputId": "089ae05a-3816-48a5-e34e-b3fcfd2d113c"
      },
      "outputs": [
        {
          "output_type": "stream",
          "name": "stdout",
          "text": [
            "shape: (10, 6)\n",
            "┌────────┬─────────────────────┬───────────┬──────────────┬───────────┬────────────────────┐\n",
            "│ origin ┆ origin_name         ┆ dest_name ┆ flight_count ┆ avg_delay ┆ delayed_percentage │\n",
            "│ ---    ┆ ---                 ┆ ---       ┆ ---          ┆ ---       ┆ ---                │\n",
            "│ str    ┆ str                 ┆ str       ┆ u32          ┆ f64       ┆ f64                │\n",
            "╞════════╪═════════════════════╪═══════════╪══════════════╪═══════════╪════════════════════╡\n",
            "│ JFK    ┆ John F Kennedy Intl ┆ LAX       ┆ 11262        ┆ 8.522508  ┆ 0.098295           │\n",
            "│ LGA    ┆ La Guardia          ┆ ATL       ┆ 10263        ┆ 11.448621 ┆ 0.122479           │\n",
            "│ LGA    ┆ La Guardia          ┆ ORD       ┆ 8857         ┆ 10.740758 ┆ 0.133454           │\n",
            "│ JFK    ┆ John F Kennedy Intl ┆ SFO       ┆ 8204         ┆ 11.952691 ┆ 0.12116            │\n",
            "│ LGA    ┆ La Guardia          ┆ CLT       ┆ 6168         ┆ 8.965321  ┆ 0.119488           │\n",
            "│ EWR    ┆ Newark Liberty Intl ┆ ORD       ┆ 6100         ┆ 14.644163 ┆ 0.16               │\n",
            "│ JFK    ┆ John F Kennedy Intl ┆ BOS       ┆ 5898         ┆ 11.694953 ┆ 0.137674           │\n",
            "│ LGA    ┆ La Guardia          ┆ MIA       ┆ 5781         ┆ 7.361747  ┆ 0.09462            │\n",
            "│ JFK    ┆ John F Kennedy Intl ┆ MCO       ┆ 5464         ┆ 10.601583 ┆ 0.127196           │\n",
            "│ EWR    ┆ Newark Liberty Intl ┆ BOS       ┆ 5327         ┆ 12.54561  ┆ 0.149052           │\n",
            "└────────┴─────────────────────┴───────────┴──────────────┴───────────┴────────────────────┘\n"
          ]
        }
      ],
      "source": [
        "# Write your SQL query here\n",
        "# Find the top 10 routes (origin-destination pairs) with:\n",
        "# Total number of flights\n",
        "# Average departure delay\n",
        "# Percentage of flights delayed more than 30 minutes\n",
        "# Include airport names, not just codes.\n",
        "\n",
        "result = ctx.execute(\"\"\"\n",
        "  SELECT\n",
        "      f.origin,\n",
        "      a.name AS origin_name,\n",
        "      f.dest AS dest_name,\n",
        "      COUNT(*) AS flight_count,\n",
        "      AVG(f.dep_delay) AS avg_delay,\n",
        "      CAST(SUM(CASE WHEN f.dep_delay > 30 THEN 1 ELSE 0 END) AS REAL) / COUNT(*) AS delayed_percentage\n",
        "  FROM flights f\n",
        "  JOIN airports a ON f.origin = a.faa\n",
        "  GROUP BY f.origin, a.name, f.dest\n",
        "  ORDER BY flight_count DESC\n",
        "  LIMIT 10\n",
        "\"\"\")\n",
        "\n",
        "\n",
        "\n",
        "# print(result)\n",
        "print(result)"
      ]
    },
    {
      "cell_type": "code",
      "execution_count": null,
      "metadata": {
        "id": "yXP73x5tQzz6"
      },
      "outputs": [],
      "source": [
        "# Write your SQL query here\n",
        "result = ctx.execute(\"\"\"\n",
        "-- Your query here\n",
        "\"\"\")\n",
        "\n",
        "# print(result)"
      ]
    },
    {
      "cell_type": "markdown",
      "metadata": {
        "id": "YqFAr3-RQzz6"
      },
      "source": [
        "## Bonus: Compare with Polars\n",
        "\n",
        "### Choose one of the queries above and implement it using Polars\n",
        "\n",
        "This will help you understand the relationship between SQL and Polars operations."
      ]
    },
    {
      "cell_type": "code",
      "execution_count": 33,
      "metadata": {
        "id": "1fG_FrzSQzz7",
        "colab": {
          "base_uri": "https://localhost:8080/"
        },
        "outputId": "a33595a6-a1c1-4234-e9e4-281edc51dfe2"
      },
      "outputs": [
        {
          "output_type": "stream",
          "name": "stdout",
          "text": [
            "SQL Result:\n",
            "shape: (3, 2)\n",
            "┌────────┬───────────┐\n",
            "│ origin ┆ avg_delay │\n",
            "│ ---    ┆ ---       │\n",
            "│ str    ┆ f64       │\n",
            "╞════════╪═══════════╡\n",
            "│ EWR    ┆ 15.107954 │\n",
            "│ JFK    ┆ 12.112159 │\n",
            "│ LGA    ┆ 10.346876 │\n",
            "└────────┴───────────┘\n",
            "\n",
            "Polars Result:\n",
            "shape: (3, 2)\n",
            "┌────────┬───────────┐\n",
            "│ origin ┆ avg_delay │\n",
            "│ ---    ┆ ---       │\n",
            "│ str    ┆ f64       │\n",
            "╞════════╪═══════════╡\n",
            "│ EWR    ┆ 15.107954 │\n",
            "│ JFK    ┆ 12.112159 │\n",
            "│ LGA    ┆ 10.346876 │\n",
            "└────────┴───────────┘\n"
          ]
        }
      ],
      "source": [
        "# Let's implement Exercise 2.1 (average delay by origin) in Polars\n",
        "\n",
        "# SQL version (for reference)\n",
        "sql_result = ctx.execute(\"\"\"\n",
        "    SELECT\n",
        "        origin,\n",
        "        AVG(dep_delay) as avg_delay\n",
        "    FROM flights\n",
        "    WHERE dep_delay IS NOT NULL\n",
        "    GROUP BY origin\n",
        "    ORDER BY avg_delay DESC\n",
        "\"\"\")\n",
        "\n",
        "# Polars version\n",
        "polars_result = (\n",
        "    flights\n",
        "    .filter(pl.col('dep_delay').is_not_null())\n",
        "    .group_by('origin')\n",
        "    .agg(pl.col('dep_delay').mean().alias('avg_delay'))\n",
        "    .sort('avg_delay', descending=True)\n",
        ")\n",
        "\n",
        "print(\"SQL Result:\")\n",
        "print(sql_result)\n",
        "print(\"\\nPolars Result:\")\n",
        "print(polars_result)\n",
        "\n",
        "# Now implement one of your own queries in Polars below:\n",
        "# Your Polars code here"
      ]
    }
  ],
  "metadata": {
    "kernelspec": {
      "display_name": "Python 3",
      "language": "python",
      "name": "python3"
    },
    "language_info": {
      "codemirror_mode": {
        "name": "ipython",
        "version": 3
      },
      "file_extension": ".py",
      "mimetype": "text/x-python",
      "name": "python",
      "nbconvert_exporter": "python",
      "pygments_lexer": "ipython3",
      "version": "3.8.0"
    },
    "colab": {
      "provenance": []
    }
  },
  "nbformat": 4,
  "nbformat_minor": 0
}